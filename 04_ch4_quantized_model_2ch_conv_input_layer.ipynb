{
 "cells": [
  {
   "cell_type": "markdown",
   "id": "edb10a1f",
   "metadata": {},
   "source": [
    "# Challenge 4 study - Quantized Model with 2 channels Conv Input Layer"
   ]
  },
  {
   "cell_type": "markdown",
   "id": "2543e567",
   "metadata": {},
   "source": [
    "## Import libraries and data, init virtual device"
   ]
  },
  {
   "cell_type": "code",
   "execution_count": 1,
   "id": "f3c11ff1",
   "metadata": {
    "scrolled": false
   },
   "outputs": [
    {
     "name": "stderr",
     "output_type": "stream",
     "text": [
      "2022-11-11 13:31:05.238483: I tensorflow/core/platform/cpu_feature_guard.cc:193] This TensorFlow binary is optimized with oneAPI Deep Neural Network Library (oneDNN) to use the following CPU instructions in performance-critical operations:  AVX2 FMA\n",
      "To enable them in other operations, rebuild TensorFlow with the appropriate compiler flags.\n",
      "2022-11-11 13:31:05.437183: W tensorflow/stream_executor/platform/default/dso_loader.cc:64] Could not load dynamic library 'libcudart.so.11.0'; dlerror: libcudart.so.11.0: cannot open shared object file: No such file or directory\n",
      "2022-11-11 13:31:05.437258: I tensorflow/stream_executor/cuda/cudart_stub.cc:29] Ignore above cudart dlerror if you do not have a GPU set up on your machine.\n",
      "2022-11-11 13:31:05.473129: E tensorflow/stream_executor/cuda/cuda_blas.cc:2981] Unable to register cuBLAS factory: Attempting to register factory for plugin cuBLAS when one has already been registered\n",
      "2022-11-11 13:31:06.432137: W tensorflow/stream_executor/platform/default/dso_loader.cc:64] Could not load dynamic library 'libnvinfer.so.7'; dlerror: libnvinfer.so.7: cannot open shared object file: No such file or directory\n",
      "2022-11-11 13:31:06.432324: W tensorflow/stream_executor/platform/default/dso_loader.cc:64] Could not load dynamic library 'libnvinfer_plugin.so.7'; dlerror: libnvinfer_plugin.so.7: cannot open shared object file: No such file or directory\n",
      "2022-11-11 13:31:06.432342: W tensorflow/compiler/tf2tensorrt/utils/py_utils.cc:38] TF-TRT Warning: Cannot dlopen some TensorRT libraries. If you would like to use Nvidia GPU with TensorRT, please make sure the missing libraries mentioned above are installed properly.\n",
      "2022-11-11 13:31:07.407097: W tensorflow/stream_executor/platform/default/dso_loader.cc:64] Could not load dynamic library 'libcuda.so.1'; dlerror: libcuda.so.1: cannot open shared object file: No such file or directory\n",
      "2022-11-11 13:31:07.407170: W tensorflow/stream_executor/cuda/cuda_driver.cc:263] failed call to cuInit: UNKNOWN ERROR (303)\n",
      "2022-11-11 13:31:07.407202: I tensorflow/stream_executor/cuda/cuda_diagnostics.cc:156] kernel driver does not appear to be running on this host (87c26121fd32): /proc/driver/nvidia/version does not exist\n",
      "2022-11-11 13:31:07.407539: I tensorflow/core/platform/cpu_feature_guard.cc:193] This TensorFlow binary is optimized with oneAPI Deep Neural Network Library (oneDNN) to use the following CPU instructions in performance-critical operations:  AVX2 FMA\n",
      "To enable them in other operations, rebuild TensorFlow with the appropriate compiler flags.\n"
     ]
    }
   ],
   "source": [
    "import numpy as np\n",
    "import pandas as pd\n",
    "\n",
    "from tensorflow.keras.models import Sequential\n",
    "from tensorflow.keras.layers import Dense, Activation, ReLU, Conv2D, Flatten, Dropout\n",
    "\n",
    "from akida import Device, AKD1000\n",
    "import cnn2snn\n",
    "\n",
    "device = AKD1000()"
   ]
  },
  {
   "cell_type": "markdown",
   "id": "e4f448ce",
   "metadata": {},
   "source": [
    "## Data Preparation"
   ]
  },
  {
   "cell_type": "code",
   "execution_count": 2,
   "id": "e53acf77",
   "metadata": {},
   "outputs": [
    {
     "data": {
      "text/plain": [
       "array([[[238,  86,   0],\n",
       "        [238,  86,   0],\n",
       "        [238,  86,   0],\n",
       "        [238,  86,   0],\n",
       "        [238,  86,   0]],\n",
       "\n",
       "       [[238,  86,   0],\n",
       "        [238,  86,   0],\n",
       "        [238,  86,   0],\n",
       "        [238,  86,   0],\n",
       "        [238,  86,   0]],\n",
       "\n",
       "       [[238,  86,   0],\n",
       "        [238,  86,   0],\n",
       "        [238,  86,   0],\n",
       "        [238,  86,   0],\n",
       "        [238,  86,   0]],\n",
       "\n",
       "       [[238,  86,   0],\n",
       "        [238,  86,   0],\n",
       "        [238,  86,   0],\n",
       "        [238,  86,   0],\n",
       "        [238,  86,   0]],\n",
       "\n",
       "       [[238,  86,   0],\n",
       "        [238,  86,   0],\n",
       "        [238,  86,   0],\n",
       "        [238,  86,   0],\n",
       "        [238,  86,   0]]], dtype=uint8)"
      ]
     },
     "execution_count": 2,
     "metadata": {},
     "output_type": "execute_result"
    }
   ],
   "source": [
    "coords_ch4 = np.load('coords_ch4.npy')\n",
    "color = np.load('result_ch4.npy')\n",
    "\n",
    "# Pack in a dataframe and scale for 8-bits quantization (first layer will be quantized on 8-bits)\n",
    "data = pd.DataFrame(coords_ch4, columns = ['x', 'y'])\n",
    "data = round(255*data).astype(np.uint8)\n",
    "\n",
    "\n",
    "# Shuffle and split train/test\n",
    "data['color'] = color\n",
    "data_train = data.sample(frac=0.7, axis=0)\n",
    "data_test = data.drop(data_train.index)\n",
    "\n",
    "# Split x y\n",
    "x_train = data_train.drop('color', axis=1)\n",
    "y_train = data_train['color']\n",
    "x_test = data_test.drop('color', axis=1)\n",
    "y_test = data_test['color']\n",
    "\n",
    "\n",
    "# Attempt to encode coordinates as an image: put the x value as grey scale on the left, then y on the right\n",
    "x = np.empty((5, 5, 1))\n",
    "y = np.empty((5, 5, 1))\n",
    "z = np.empty((5, 5, 1))\n",
    "\n",
    "x_train_coded = np.empty((7000, 5, 5, 3))\n",
    "for i, p in enumerate(x_train.to_numpy()):\n",
    "    x.fill(p[0])\n",
    "    y.fill(p[1])\n",
    "    z.fill(0)\n",
    "    x_train_coded[i] = np.concatenate((x, y, z), axis=2)\n",
    "x_train_coded = x_train_coded.astype(np.uint8)\n",
    "\n",
    "x_test_coded = np.empty((3000, 5, 5, 3))\n",
    "for i, p in enumerate(x_test.to_numpy()):\n",
    "    x.fill(p[0])\n",
    "    y.fill(p[1])\n",
    "    z.fill(0)\n",
    "    x_test_coded[i] = np.concatenate((x, y, z), axis=2)\n",
    "x_test_coded = x_test_coded.astype(np.uint8)\n",
    "\n",
    "x_train_coded[0]"
   ]
  },
  {
   "cell_type": "markdown",
   "id": "bc350f17",
   "metadata": {},
   "source": [
    "## Model creation with Keras"
   ]
  },
  {
   "cell_type": "code",
   "execution_count": 13,
   "id": "e95b418c",
   "metadata": {},
   "outputs": [],
   "source": [
    "base = Sequential(name=\"Base_ch4\")\n",
    "base.add(Conv2D(1, (3, 3), input_shape=(5, 5, 3), name='C2D'))\n",
    "base.add(ReLU(name='relu0'))\n",
    "#base.add(Dropout(0.2))\n",
    "base.add(Flatten())\n",
    "base.add(Dense(1000, name='FC1'))\n",
    "base.add(ReLU(name='relu1'))\n",
    "base.add(Dense(500, name='FC2'))\n",
    "base.add(ReLU(name='relu2'))\n",
    "base.add(Dense(250, name='FC3'))\n",
    "base.add(ReLU(name='relu3'))\n",
    "base.add(Dense(100, name='FC4'))\n",
    "base.add(ReLU(name='relu4'))\n",
    "base.add(Dense(50, name='FC5'))\n",
    "base.add(ReLU(name='relu5'))\n",
    "base.add(Dense(1, name='FC6'))\n",
    "base.add(Activation('sigmoid', name='sigmoid'))\n",
    "\n",
    "#base.summary()"
   ]
  },
  {
   "cell_type": "markdown",
   "id": "1b43e0b4",
   "metadata": {},
   "source": [
    "## Model quantization (4-bits, input: 8-bit)"
   ]
  },
  {
   "cell_type": "code",
   "execution_count": 14,
   "id": "1390dddc",
   "metadata": {},
   "outputs": [
    {
     "name": "stdout",
     "output_type": "stream",
     "text": [
      "Model: \"sequential_31\"\n",
      "_________________________________________________________________\n",
      " Layer (type)                Output Shape              Param #   \n",
      "=================================================================\n",
      " C2D (QuantizedConv2D)       (None, 3, 3, 1)           28        \n",
      "                                                                 \n",
      " relu0 (QuantizedReLU)       (None, 3, 3, 1)           0         \n",
      "                                                                 \n",
      " flatten_3 (Flatten)         (None, 9)                 0         \n",
      "                                                                 \n",
      " FC1 (QuantizedDense)        (None, 1000)              10000     \n",
      "                                                                 \n",
      " relu1 (QuantizedReLU)       (None, 1000)              0         \n",
      "                                                                 \n",
      " FC2 (QuantizedDense)        (None, 500)               500500    \n",
      "                                                                 \n",
      " relu2 (QuantizedReLU)       (None, 500)               0         \n",
      "                                                                 \n",
      " FC3 (QuantizedDense)        (None, 250)               125250    \n",
      "                                                                 \n",
      " relu3 (QuantizedReLU)       (None, 250)               0         \n",
      "                                                                 \n",
      " FC4 (QuantizedDense)        (None, 100)               25100     \n",
      "                                                                 \n",
      " relu4 (QuantizedReLU)       (None, 100)               0         \n",
      "                                                                 \n",
      " FC5 (QuantizedDense)        (None, 50)                5050      \n",
      "                                                                 \n",
      " relu5 (QuantizedReLU)       (None, 50)                0         \n",
      "                                                                 \n",
      " FC6 (QuantizedDense)        (None, 1)                 51        \n",
      "                                                                 \n",
      " sigmoid (Activation)        (None, 1)                 0         \n",
      "                                                                 \n",
      "=================================================================\n",
      "Total params: 665,979\n",
      "Trainable params: 665,979\n",
      "Non-trainable params: 0\n",
      "_________________________________________________________________\n",
      "\n",
      "Akida Compatibility: True\n"
     ]
    }
   ],
   "source": [
    "qmodel = cnn2snn.quantize(base, weight_quantization=4, activ_quantization=4, input_weight_quantization=8)\n",
    "qmodel.summary()\n",
    "\n",
    "print('\\nAkida Compatibility:', cnn2snn.check_model_compatibility(qmodel, input_is_image=True))"
   ]
  },
  {
   "cell_type": "markdown",
   "id": "6fad8c8a",
   "metadata": {},
   "source": [
    "## Preview akida model"
   ]
  },
  {
   "cell_type": "code",
   "execution_count": 15,
   "id": "0d2c5bf0",
   "metadata": {},
   "outputs": [
    {
     "name": "stdout",
     "output_type": "stream",
     "text": [
      "                   Model Summary                   \n",
      "___________________________________________________\n",
      "Input shape  Output shape  Sequences  Layers  NPs\n",
      "===================================================\n",
      "[5, 5, 3]    [1, 1, 1]     1          7       6  \n",
      "___________________________________________________\n",
      "\n",
      "________________________________________________________\n",
      "Layer (type)      Output shape  Kernel shape       NPs\n",
      "\n",
      "====== HW/C2D-FC6 (Hardware) - size: 560632 bytes ======\n",
      "\n",
      "C2D (InputConv.)  [3, 3, 1]     (3, 3, 3, 1)       N/A\n",
      "________________________________________________________\n",
      "FC1 (Fully.)      [1, 1, 1000]  (1, 1, 9, 1000)    1  \n",
      "________________________________________________________\n",
      "FC2 (Fully.)      [1, 1, 500]   (1, 1, 1000, 500)  1  \n",
      "________________________________________________________\n",
      "FC3 (Fully.)      [1, 1, 250]   (1, 1, 500, 250)   1  \n",
      "________________________________________________________\n",
      "FC4 (Fully.)      [1, 1, 100]   (1, 1, 250, 100)   1  \n",
      "________________________________________________________\n",
      "FC5 (Fully.)      [1, 1, 50]    (1, 1, 100, 50)    1  \n",
      "________________________________________________________\n",
      "FC6 (Fully.)      [1, 1, 1]     (1, 1, 50, 1)      1  \n",
      "________________________________________________________\n"
     ]
    }
   ],
   "source": [
    "akmodel = cnn2snn.convert(qmodel, input_is_image=True)\n",
    "akmodel.map(device)\n",
    "akmodel.summary()"
   ]
  },
  {
   "cell_type": "markdown",
   "id": "8957d01f",
   "metadata": {},
   "source": [
    "## Train quantized model"
   ]
  },
  {
   "cell_type": "code",
   "execution_count": 16,
   "id": "b7c9e56b",
   "metadata": {
    "scrolled": false
   },
   "outputs": [
    {
     "name": "stdout",
     "output_type": "stream",
     "text": [
      "Epoch 1/600\n",
      "110/110 [==============================] - 6s 28ms/step - loss: 0.6932 - accuracy: 0.5009\n",
      "Epoch 2/600\n",
      "110/110 [==============================] - 3s 28ms/step - loss: 0.6932 - accuracy: 0.5023\n",
      "Epoch 3/600\n",
      "110/110 [==============================] - 3s 28ms/step - loss: 0.6932 - accuracy: 0.5023\n",
      "Epoch 4/600\n",
      "110/110 [==============================] - 3s 27ms/step - loss: 0.6932 - accuracy: 0.5023\n",
      "Epoch 5/600\n",
      "110/110 [==============================] - 3s 27ms/step - loss: 0.6932 - accuracy: 0.5023\n",
      "Epoch 6/600\n",
      "110/110 [==============================] - 3s 27ms/step - loss: 0.6932 - accuracy: 0.5023\n",
      "Epoch 7/600\n",
      "110/110 [==============================] - 3s 28ms/step - loss: 0.6932 - accuracy: 0.5023\n",
      "Epoch 8/600\n",
      "110/110 [==============================] - 3s 28ms/step - loss: 0.6932 - accuracy: 0.5023\n",
      "Epoch 9/600\n",
      "110/110 [==============================] - 3s 28ms/step - loss: 0.6932 - accuracy: 0.5023\n",
      "Epoch 10/600\n",
      "110/110 [==============================] - 3s 31ms/step - loss: 0.6932 - accuracy: 0.5023\n",
      "Epoch 11/600\n",
      "110/110 [==============================] - 3s 30ms/step - loss: 0.6931 - accuracy: 0.5023\n",
      "Epoch 12/600\n",
      "110/110 [==============================] - 3s 29ms/step - loss: 0.6932 - accuracy: 0.5023\n",
      "Epoch 13/600\n",
      "110/110 [==============================] - 3s 29ms/step - loss: 0.6932 - accuracy: 0.5023\n",
      "Epoch 14/600\n",
      "101/110 [==========================>...] - ETA: 0s - loss: 0.6932 - accuracy: 0.5012"
     ]
    },
    {
     "ename": "KeyboardInterrupt",
     "evalue": "",
     "output_type": "error",
     "traceback": [
      "\u001b[0;31m---------------------------------------------------------------------------\u001b[0m",
      "\u001b[0;31mKeyboardInterrupt\u001b[0m                         Traceback (most recent call last)",
      "Cell \u001b[0;32mIn [16], line 5\u001b[0m\n\u001b[1;32m      1\u001b[0m qmodel\u001b[38;5;241m.\u001b[39mcompile(loss\u001b[38;5;241m=\u001b[39m\u001b[38;5;124m'\u001b[39m\u001b[38;5;124mbinary_crossentropy\u001b[39m\u001b[38;5;124m'\u001b[39m,\n\u001b[1;32m      2\u001b[0m             optimizer\u001b[38;5;241m=\u001b[39m\u001b[38;5;124m'\u001b[39m\u001b[38;5;124madam\u001b[39m\u001b[38;5;124m'\u001b[39m,\n\u001b[1;32m      3\u001b[0m             metrics\u001b[38;5;241m=\u001b[39m[\u001b[38;5;124m'\u001b[39m\u001b[38;5;124maccuracy\u001b[39m\u001b[38;5;124m'\u001b[39m]\n\u001b[1;32m      4\u001b[0m             )\n\u001b[0;32m----> 5\u001b[0m \u001b[43mqmodel\u001b[49m\u001b[38;5;241;43m.\u001b[39;49m\u001b[43mfit\u001b[49m\u001b[43m(\u001b[49m\u001b[43mx_train_coded\u001b[49m\u001b[43m,\u001b[49m\u001b[43m \u001b[49m\u001b[43my_train\u001b[49m\u001b[43m,\u001b[49m\u001b[43m \u001b[49m\u001b[43mbatch_size\u001b[49m\u001b[38;5;241;43m=\u001b[39;49m\u001b[38;5;241;43m64\u001b[39;49m\u001b[43m,\u001b[49m\u001b[43m \u001b[49m\u001b[43mepochs\u001b[49m\u001b[38;5;241;43m=\u001b[39;49m\u001b[38;5;241;43m600\u001b[39;49m\u001b[43m)\u001b[49m\n\u001b[1;32m      6\u001b[0m qmodel\u001b[38;5;241m.\u001b[39mevaluate(x_test_coded, y_test)\n",
      "File \u001b[0;32m/usr/local/lib/python3.10/dist-packages/keras/utils/traceback_utils.py:65\u001b[0m, in \u001b[0;36mfilter_traceback.<locals>.error_handler\u001b[0;34m(*args, **kwargs)\u001b[0m\n\u001b[1;32m     63\u001b[0m filtered_tb \u001b[38;5;241m=\u001b[39m \u001b[38;5;28;01mNone\u001b[39;00m\n\u001b[1;32m     64\u001b[0m \u001b[38;5;28;01mtry\u001b[39;00m:\n\u001b[0;32m---> 65\u001b[0m     \u001b[38;5;28;01mreturn\u001b[39;00m \u001b[43mfn\u001b[49m\u001b[43m(\u001b[49m\u001b[38;5;241;43m*\u001b[39;49m\u001b[43margs\u001b[49m\u001b[43m,\u001b[49m\u001b[43m \u001b[49m\u001b[38;5;241;43m*\u001b[39;49m\u001b[38;5;241;43m*\u001b[39;49m\u001b[43mkwargs\u001b[49m\u001b[43m)\u001b[49m\n\u001b[1;32m     66\u001b[0m \u001b[38;5;28;01mexcept\u001b[39;00m \u001b[38;5;167;01mException\u001b[39;00m \u001b[38;5;28;01mas\u001b[39;00m e:\n\u001b[1;32m     67\u001b[0m     filtered_tb \u001b[38;5;241m=\u001b[39m _process_traceback_frames(e\u001b[38;5;241m.\u001b[39m__traceback__)\n",
      "File \u001b[0;32m/usr/local/lib/python3.10/dist-packages/keras/engine/training.py:1564\u001b[0m, in \u001b[0;36mModel.fit\u001b[0;34m(self, x, y, batch_size, epochs, verbose, callbacks, validation_split, validation_data, shuffle, class_weight, sample_weight, initial_epoch, steps_per_epoch, validation_steps, validation_batch_size, validation_freq, max_queue_size, workers, use_multiprocessing)\u001b[0m\n\u001b[1;32m   1556\u001b[0m \u001b[38;5;28;01mwith\u001b[39;00m tf\u001b[38;5;241m.\u001b[39mprofiler\u001b[38;5;241m.\u001b[39mexperimental\u001b[38;5;241m.\u001b[39mTrace(\n\u001b[1;32m   1557\u001b[0m     \u001b[38;5;124m\"\u001b[39m\u001b[38;5;124mtrain\u001b[39m\u001b[38;5;124m\"\u001b[39m,\n\u001b[1;32m   1558\u001b[0m     epoch_num\u001b[38;5;241m=\u001b[39mepoch,\n\u001b[0;32m   (...)\u001b[0m\n\u001b[1;32m   1561\u001b[0m     _r\u001b[38;5;241m=\u001b[39m\u001b[38;5;241m1\u001b[39m,\n\u001b[1;32m   1562\u001b[0m ):\n\u001b[1;32m   1563\u001b[0m     callbacks\u001b[38;5;241m.\u001b[39mon_train_batch_begin(step)\n\u001b[0;32m-> 1564\u001b[0m     tmp_logs \u001b[38;5;241m=\u001b[39m \u001b[38;5;28;43mself\u001b[39;49m\u001b[38;5;241;43m.\u001b[39;49m\u001b[43mtrain_function\u001b[49m\u001b[43m(\u001b[49m\u001b[43miterator\u001b[49m\u001b[43m)\u001b[49m\n\u001b[1;32m   1565\u001b[0m     \u001b[38;5;28;01mif\u001b[39;00m data_handler\u001b[38;5;241m.\u001b[39mshould_sync:\n\u001b[1;32m   1566\u001b[0m         context\u001b[38;5;241m.\u001b[39masync_wait()\n",
      "File \u001b[0;32m/usr/local/lib/python3.10/dist-packages/tensorflow/python/util/traceback_utils.py:150\u001b[0m, in \u001b[0;36mfilter_traceback.<locals>.error_handler\u001b[0;34m(*args, **kwargs)\u001b[0m\n\u001b[1;32m    148\u001b[0m filtered_tb \u001b[38;5;241m=\u001b[39m \u001b[38;5;28;01mNone\u001b[39;00m\n\u001b[1;32m    149\u001b[0m \u001b[38;5;28;01mtry\u001b[39;00m:\n\u001b[0;32m--> 150\u001b[0m   \u001b[38;5;28;01mreturn\u001b[39;00m \u001b[43mfn\u001b[49m\u001b[43m(\u001b[49m\u001b[38;5;241;43m*\u001b[39;49m\u001b[43margs\u001b[49m\u001b[43m,\u001b[49m\u001b[43m \u001b[49m\u001b[38;5;241;43m*\u001b[39;49m\u001b[38;5;241;43m*\u001b[39;49m\u001b[43mkwargs\u001b[49m\u001b[43m)\u001b[49m\n\u001b[1;32m    151\u001b[0m \u001b[38;5;28;01mexcept\u001b[39;00m \u001b[38;5;167;01mException\u001b[39;00m \u001b[38;5;28;01mas\u001b[39;00m e:\n\u001b[1;32m    152\u001b[0m   filtered_tb \u001b[38;5;241m=\u001b[39m _process_traceback_frames(e\u001b[38;5;241m.\u001b[39m__traceback__)\n",
      "File \u001b[0;32m/usr/local/lib/python3.10/dist-packages/tensorflow/python/eager/def_function.py:915\u001b[0m, in \u001b[0;36mFunction.__call__\u001b[0;34m(self, *args, **kwds)\u001b[0m\n\u001b[1;32m    912\u001b[0m compiler \u001b[38;5;241m=\u001b[39m \u001b[38;5;124m\"\u001b[39m\u001b[38;5;124mxla\u001b[39m\u001b[38;5;124m\"\u001b[39m \u001b[38;5;28;01mif\u001b[39;00m \u001b[38;5;28mself\u001b[39m\u001b[38;5;241m.\u001b[39m_jit_compile \u001b[38;5;28;01melse\u001b[39;00m \u001b[38;5;124m\"\u001b[39m\u001b[38;5;124mnonXla\u001b[39m\u001b[38;5;124m\"\u001b[39m\n\u001b[1;32m    914\u001b[0m \u001b[38;5;28;01mwith\u001b[39;00m OptionalXlaContext(\u001b[38;5;28mself\u001b[39m\u001b[38;5;241m.\u001b[39m_jit_compile):\n\u001b[0;32m--> 915\u001b[0m   result \u001b[38;5;241m=\u001b[39m \u001b[38;5;28;43mself\u001b[39;49m\u001b[38;5;241;43m.\u001b[39;49m\u001b[43m_call\u001b[49m\u001b[43m(\u001b[49m\u001b[38;5;241;43m*\u001b[39;49m\u001b[43margs\u001b[49m\u001b[43m,\u001b[49m\u001b[43m \u001b[49m\u001b[38;5;241;43m*\u001b[39;49m\u001b[38;5;241;43m*\u001b[39;49m\u001b[43mkwds\u001b[49m\u001b[43m)\u001b[49m\n\u001b[1;32m    917\u001b[0m new_tracing_count \u001b[38;5;241m=\u001b[39m \u001b[38;5;28mself\u001b[39m\u001b[38;5;241m.\u001b[39mexperimental_get_tracing_count()\n\u001b[1;32m    918\u001b[0m without_tracing \u001b[38;5;241m=\u001b[39m (tracing_count \u001b[38;5;241m==\u001b[39m new_tracing_count)\n",
      "File \u001b[0;32m/usr/local/lib/python3.10/dist-packages/tensorflow/python/eager/def_function.py:947\u001b[0m, in \u001b[0;36mFunction._call\u001b[0;34m(self, *args, **kwds)\u001b[0m\n\u001b[1;32m    944\u001b[0m   \u001b[38;5;28mself\u001b[39m\u001b[38;5;241m.\u001b[39m_lock\u001b[38;5;241m.\u001b[39mrelease()\n\u001b[1;32m    945\u001b[0m   \u001b[38;5;66;03m# In this case we have created variables on the first call, so we run the\u001b[39;00m\n\u001b[1;32m    946\u001b[0m   \u001b[38;5;66;03m# defunned version which is guaranteed to never create variables.\u001b[39;00m\n\u001b[0;32m--> 947\u001b[0m   \u001b[38;5;28;01mreturn\u001b[39;00m \u001b[38;5;28;43mself\u001b[39;49m\u001b[38;5;241;43m.\u001b[39;49m\u001b[43m_stateless_fn\u001b[49m\u001b[43m(\u001b[49m\u001b[38;5;241;43m*\u001b[39;49m\u001b[43margs\u001b[49m\u001b[43m,\u001b[49m\u001b[43m \u001b[49m\u001b[38;5;241;43m*\u001b[39;49m\u001b[38;5;241;43m*\u001b[39;49m\u001b[43mkwds\u001b[49m\u001b[43m)\u001b[49m  \u001b[38;5;66;03m# pylint: disable=not-callable\u001b[39;00m\n\u001b[1;32m    948\u001b[0m \u001b[38;5;28;01melif\u001b[39;00m \u001b[38;5;28mself\u001b[39m\u001b[38;5;241m.\u001b[39m_stateful_fn \u001b[38;5;129;01mis\u001b[39;00m \u001b[38;5;129;01mnot\u001b[39;00m \u001b[38;5;28;01mNone\u001b[39;00m:\n\u001b[1;32m    949\u001b[0m   \u001b[38;5;66;03m# Release the lock early so that multiple threads can perform the call\u001b[39;00m\n\u001b[1;32m    950\u001b[0m   \u001b[38;5;66;03m# in parallel.\u001b[39;00m\n\u001b[1;32m    951\u001b[0m   \u001b[38;5;28mself\u001b[39m\u001b[38;5;241m.\u001b[39m_lock\u001b[38;5;241m.\u001b[39mrelease()\n",
      "File \u001b[0;32m/usr/local/lib/python3.10/dist-packages/tensorflow/python/eager/function.py:2496\u001b[0m, in \u001b[0;36mFunction.__call__\u001b[0;34m(self, *args, **kwargs)\u001b[0m\n\u001b[1;32m   2493\u001b[0m \u001b[38;5;28;01mwith\u001b[39;00m \u001b[38;5;28mself\u001b[39m\u001b[38;5;241m.\u001b[39m_lock:\n\u001b[1;32m   2494\u001b[0m   (graph_function,\n\u001b[1;32m   2495\u001b[0m    filtered_flat_args) \u001b[38;5;241m=\u001b[39m \u001b[38;5;28mself\u001b[39m\u001b[38;5;241m.\u001b[39m_maybe_define_function(args, kwargs)\n\u001b[0;32m-> 2496\u001b[0m \u001b[38;5;28;01mreturn\u001b[39;00m \u001b[43mgraph_function\u001b[49m\u001b[38;5;241;43m.\u001b[39;49m\u001b[43m_call_flat\u001b[49m\u001b[43m(\u001b[49m\n\u001b[1;32m   2497\u001b[0m \u001b[43m    \u001b[49m\u001b[43mfiltered_flat_args\u001b[49m\u001b[43m,\u001b[49m\u001b[43m \u001b[49m\u001b[43mcaptured_inputs\u001b[49m\u001b[38;5;241;43m=\u001b[39;49m\u001b[43mgraph_function\u001b[49m\u001b[38;5;241;43m.\u001b[39;49m\u001b[43mcaptured_inputs\u001b[49m\u001b[43m)\u001b[49m\n",
      "File \u001b[0;32m/usr/local/lib/python3.10/dist-packages/tensorflow/python/eager/function.py:1862\u001b[0m, in \u001b[0;36mConcreteFunction._call_flat\u001b[0;34m(self, args, captured_inputs, cancellation_manager)\u001b[0m\n\u001b[1;32m   1858\u001b[0m possible_gradient_type \u001b[38;5;241m=\u001b[39m gradients_util\u001b[38;5;241m.\u001b[39mPossibleTapeGradientTypes(args)\n\u001b[1;32m   1859\u001b[0m \u001b[38;5;28;01mif\u001b[39;00m (possible_gradient_type \u001b[38;5;241m==\u001b[39m gradients_util\u001b[38;5;241m.\u001b[39mPOSSIBLE_GRADIENT_TYPES_NONE\n\u001b[1;32m   1860\u001b[0m     \u001b[38;5;129;01mand\u001b[39;00m executing_eagerly):\n\u001b[1;32m   1861\u001b[0m   \u001b[38;5;66;03m# No tape is watching; skip to running the function.\u001b[39;00m\n\u001b[0;32m-> 1862\u001b[0m   \u001b[38;5;28;01mreturn\u001b[39;00m \u001b[38;5;28mself\u001b[39m\u001b[38;5;241m.\u001b[39m_build_call_outputs(\u001b[38;5;28;43mself\u001b[39;49m\u001b[38;5;241;43m.\u001b[39;49m\u001b[43m_inference_function\u001b[49m\u001b[38;5;241;43m.\u001b[39;49m\u001b[43mcall\u001b[49m\u001b[43m(\u001b[49m\n\u001b[1;32m   1863\u001b[0m \u001b[43m      \u001b[49m\u001b[43mctx\u001b[49m\u001b[43m,\u001b[49m\u001b[43m \u001b[49m\u001b[43margs\u001b[49m\u001b[43m,\u001b[49m\u001b[43m \u001b[49m\u001b[43mcancellation_manager\u001b[49m\u001b[38;5;241;43m=\u001b[39;49m\u001b[43mcancellation_manager\u001b[49m\u001b[43m)\u001b[49m)\n\u001b[1;32m   1864\u001b[0m forward_backward \u001b[38;5;241m=\u001b[39m \u001b[38;5;28mself\u001b[39m\u001b[38;5;241m.\u001b[39m_select_forward_and_backward_functions(\n\u001b[1;32m   1865\u001b[0m     args,\n\u001b[1;32m   1866\u001b[0m     possible_gradient_type,\n\u001b[1;32m   1867\u001b[0m     executing_eagerly)\n\u001b[1;32m   1868\u001b[0m forward_function, args_with_tangents \u001b[38;5;241m=\u001b[39m forward_backward\u001b[38;5;241m.\u001b[39mforward()\n",
      "File \u001b[0;32m/usr/local/lib/python3.10/dist-packages/tensorflow/python/eager/function.py:499\u001b[0m, in \u001b[0;36m_EagerDefinedFunction.call\u001b[0;34m(self, ctx, args, cancellation_manager)\u001b[0m\n\u001b[1;32m    497\u001b[0m \u001b[38;5;28;01mwith\u001b[39;00m _InterpolateFunctionError(\u001b[38;5;28mself\u001b[39m):\n\u001b[1;32m    498\u001b[0m   \u001b[38;5;28;01mif\u001b[39;00m cancellation_manager \u001b[38;5;129;01mis\u001b[39;00m \u001b[38;5;28;01mNone\u001b[39;00m:\n\u001b[0;32m--> 499\u001b[0m     outputs \u001b[38;5;241m=\u001b[39m \u001b[43mexecute\u001b[49m\u001b[38;5;241;43m.\u001b[39;49m\u001b[43mexecute\u001b[49m\u001b[43m(\u001b[49m\n\u001b[1;32m    500\u001b[0m \u001b[43m        \u001b[49m\u001b[38;5;28;43mstr\u001b[39;49m\u001b[43m(\u001b[49m\u001b[38;5;28;43mself\u001b[39;49m\u001b[38;5;241;43m.\u001b[39;49m\u001b[43msignature\u001b[49m\u001b[38;5;241;43m.\u001b[39;49m\u001b[43mname\u001b[49m\u001b[43m)\u001b[49m\u001b[43m,\u001b[49m\n\u001b[1;32m    501\u001b[0m \u001b[43m        \u001b[49m\u001b[43mnum_outputs\u001b[49m\u001b[38;5;241;43m=\u001b[39;49m\u001b[38;5;28;43mself\u001b[39;49m\u001b[38;5;241;43m.\u001b[39;49m\u001b[43m_num_outputs\u001b[49m\u001b[43m,\u001b[49m\n\u001b[1;32m    502\u001b[0m \u001b[43m        \u001b[49m\u001b[43minputs\u001b[49m\u001b[38;5;241;43m=\u001b[39;49m\u001b[43margs\u001b[49m\u001b[43m,\u001b[49m\n\u001b[1;32m    503\u001b[0m \u001b[43m        \u001b[49m\u001b[43mattrs\u001b[49m\u001b[38;5;241;43m=\u001b[39;49m\u001b[43mattrs\u001b[49m\u001b[43m,\u001b[49m\n\u001b[1;32m    504\u001b[0m \u001b[43m        \u001b[49m\u001b[43mctx\u001b[49m\u001b[38;5;241;43m=\u001b[39;49m\u001b[43mctx\u001b[49m\u001b[43m)\u001b[49m\n\u001b[1;32m    505\u001b[0m   \u001b[38;5;28;01melse\u001b[39;00m:\n\u001b[1;32m    506\u001b[0m     outputs \u001b[38;5;241m=\u001b[39m execute\u001b[38;5;241m.\u001b[39mexecute_with_cancellation(\n\u001b[1;32m    507\u001b[0m         \u001b[38;5;28mstr\u001b[39m(\u001b[38;5;28mself\u001b[39m\u001b[38;5;241m.\u001b[39msignature\u001b[38;5;241m.\u001b[39mname),\n\u001b[1;32m    508\u001b[0m         num_outputs\u001b[38;5;241m=\u001b[39m\u001b[38;5;28mself\u001b[39m\u001b[38;5;241m.\u001b[39m_num_outputs,\n\u001b[0;32m   (...)\u001b[0m\n\u001b[1;32m    511\u001b[0m         ctx\u001b[38;5;241m=\u001b[39mctx,\n\u001b[1;32m    512\u001b[0m         cancellation_manager\u001b[38;5;241m=\u001b[39mcancellation_manager)\n",
      "File \u001b[0;32m/usr/local/lib/python3.10/dist-packages/tensorflow/python/eager/execute.py:54\u001b[0m, in \u001b[0;36mquick_execute\u001b[0;34m(op_name, num_outputs, inputs, attrs, ctx, name)\u001b[0m\n\u001b[1;32m     52\u001b[0m \u001b[38;5;28;01mtry\u001b[39;00m:\n\u001b[1;32m     53\u001b[0m   ctx\u001b[38;5;241m.\u001b[39mensure_initialized()\n\u001b[0;32m---> 54\u001b[0m   tensors \u001b[38;5;241m=\u001b[39m \u001b[43mpywrap_tfe\u001b[49m\u001b[38;5;241;43m.\u001b[39;49m\u001b[43mTFE_Py_Execute\u001b[49m\u001b[43m(\u001b[49m\u001b[43mctx\u001b[49m\u001b[38;5;241;43m.\u001b[39;49m\u001b[43m_handle\u001b[49m\u001b[43m,\u001b[49m\u001b[43m \u001b[49m\u001b[43mdevice_name\u001b[49m\u001b[43m,\u001b[49m\u001b[43m \u001b[49m\u001b[43mop_name\u001b[49m\u001b[43m,\u001b[49m\n\u001b[1;32m     55\u001b[0m \u001b[43m                                      \u001b[49m\u001b[43minputs\u001b[49m\u001b[43m,\u001b[49m\u001b[43m \u001b[49m\u001b[43mattrs\u001b[49m\u001b[43m,\u001b[49m\u001b[43m \u001b[49m\u001b[43mnum_outputs\u001b[49m\u001b[43m)\u001b[49m\n\u001b[1;32m     56\u001b[0m \u001b[38;5;28;01mexcept\u001b[39;00m core\u001b[38;5;241m.\u001b[39m_NotOkStatusException \u001b[38;5;28;01mas\u001b[39;00m e:\n\u001b[1;32m     57\u001b[0m   \u001b[38;5;28;01mif\u001b[39;00m name \u001b[38;5;129;01mis\u001b[39;00m \u001b[38;5;129;01mnot\u001b[39;00m \u001b[38;5;28;01mNone\u001b[39;00m:\n",
      "\u001b[0;31mKeyboardInterrupt\u001b[0m: "
     ]
    }
   ],
   "source": [
    "qmodel.compile(loss='binary_crossentropy',\n",
    "            optimizer='adam',\n",
    "            metrics=['accuracy']\n",
    "            )\n",
    "qmodel.fit(x_train_coded, y_train, batch_size=64, epochs=600)\n",
    "qmodel.evaluate(x_test_coded, y_test)"
   ]
  },
  {
   "cell_type": "code",
   "execution_count": null,
   "id": "fa2cb293",
   "metadata": {},
   "outputs": [],
   "source": [
    " "
   ]
  }
 ],
 "metadata": {
  "kernelspec": {
   "display_name": "Python 3 (ipykernel)",
   "language": "python",
   "name": "python3"
  },
  "language_info": {
   "codemirror_mode": {
    "name": "ipython",
    "version": 3
   },
   "file_extension": ".py",
   "mimetype": "text/x-python",
   "name": "python",
   "nbconvert_exporter": "python",
   "pygments_lexer": "ipython3",
   "version": "3.10.6"
  }
 },
 "nbformat": 4,
 "nbformat_minor": 5
}
